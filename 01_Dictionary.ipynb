{
  "nbformat": 4,
  "nbformat_minor": 0,
  "metadata": {
    "colab": {
      "provenance": [],
      "authorship_tag": "ABX9TyMgXnE+hWaPvypz1yUdWvaU",
      "include_colab_link": true
    },
    "kernelspec": {
      "name": "python3",
      "display_name": "Python 3"
    },
    "language_info": {
      "name": "python"
    }
  },
  "cells": [
    {
      "cell_type": "markdown",
      "metadata": {
        "id": "view-in-github",
        "colab_type": "text"
      },
      "source": [
        "<a href=\"https://colab.research.google.com/github/hy01v1/PythonStudy_00/blob/master/01_Dictionary.ipynb\" target=\"_parent\"><img src=\"https://colab.research.google.com/assets/colab-badge.svg\" alt=\"Open In Colab\"/></a>"
      ]
    },
    {
      "cell_type": "code",
      "source": [
        "# dictionary 실습\n",
        "# 기본 자료구조 중 1개\n",
        "# dictionary 는 중괄호('{}')를 이용하여 초기화 한다."
      ],
      "metadata": {
        "id": "AL0EoBoHNeJ9"
      },
      "execution_count": null,
      "outputs": []
    },
    {
      "cell_type": "code",
      "execution_count": null,
      "metadata": {
        "id": "pSp74LpvMWYq"
      },
      "outputs": [],
      "source": [
        "edu = {'손흥민':5,'김민재':6}\n",
        "# Dictionay에 값을 저장"
      ]
    },
    {
      "cell_type": "code",
      "source": [
        "edu['손흥민']"
      ],
      "metadata": {
        "colab": {
          "base_uri": "https://localhost:8080/"
        },
        "id": "m64YjNY6MzvH",
        "outputId": "4246a41a-122f-44a6-fbb3-3ad629158d81"
      },
      "execution_count": null,
      "outputs": [
        {
          "output_type": "execute_result",
          "data": {
            "text/plain": [
              "5"
            ]
          },
          "metadata": {},
          "execution_count": 6
        }
      ]
    },
    {
      "cell_type": "code",
      "source": [
        "print(f\"이수 시간 : {edu['손흥민']}\")"
      ],
      "metadata": {
        "colab": {
          "base_uri": "https://localhost:8080/"
        },
        "id": "SR84EzIOM8aT",
        "outputId": "99e9a9f2-c6dd-48b1-ac59-1ca072c61eed"
      },
      "execution_count": null,
      "outputs": [
        {
          "output_type": "stream",
          "name": "stdout",
          "text": [
            "이수 시간 : 5\n"
          ]
        }
      ]
    },
    {
      "cell_type": "code",
      "source": [
        "edu['김진수'] = 3\n",
        "# dictionary['key'] 연산자(=) value(3)\n",
        "# value 변경 : 새로운 키 값을 대괄호 안에 입력하고 할당 연산자를 이용하여 수정한다."
      ],
      "metadata": {
        "id": "YF4Kw8PkNIUa"
      },
      "execution_count": null,
      "outputs": []
    },
    {
      "cell_type": "code",
      "source": [
        "edu['김진수']"
      ],
      "metadata": {
        "colab": {
          "base_uri": "https://localhost:8080/"
        },
        "id": "WhFMbB0BNPly",
        "outputId": "dc4d741f-5a23-4267-afbf-6df1bc40d69f"
      },
      "execution_count": null,
      "outputs": [
        {
          "output_type": "execute_result",
          "data": {
            "text/plain": [
              "3"
            ]
          },
          "metadata": {},
          "execution_count": 31
        }
      ]
    },
    {
      "cell_type": "code",
      "source": [
        "edu"
      ],
      "metadata": {
        "colab": {
          "base_uri": "https://localhost:8080/"
        },
        "id": "AIEB0lj9NTeI",
        "outputId": "a61f312e-e217-4363-ee86-a81345b8df71"
      },
      "execution_count": null,
      "outputs": [
        {
          "output_type": "execute_result",
          "data": {
            "text/plain": [
              "{'손흥민': 5, '김민재': 6, '김진수': 3}"
            ]
          },
          "metadata": {},
          "execution_count": 32
        }
      ]
    },
    {
      "cell_type": "code",
      "source": [
        "edu['김진수'] = 5\n",
        "# value 업데이트 방법 -> 새로 작성"
      ],
      "metadata": {
        "id": "-8Ee8faaNV4r"
      },
      "execution_count": null,
      "outputs": []
    },
    {
      "cell_type": "code",
      "source": [
        "edu"
      ],
      "metadata": {
        "colab": {
          "base_uri": "https://localhost:8080/"
        },
        "id": "S94AxYOSNboD",
        "outputId": "c9e4169e-1e04-4412-bffa-b2b76a71b793"
      },
      "execution_count": null,
      "outputs": [
        {
          "output_type": "execute_result",
          "data": {
            "text/plain": [
              "{'손흥민': 5, '김민재': 15, '김진수': 5}"
            ]
          },
          "metadata": {},
          "execution_count": 40
        }
      ]
    },
    {
      "cell_type": "code",
      "source": [
        "# value 만 다른 값으로 업데이트 하는 방법 :\n",
        "# edu['김민재']= edu['김민재']+3\n",
        "# edu['김민재'] += 3\n",
        "edu['김민재'] += 3"
      ],
      "metadata": {
        "id": "ABV5vPCQPYKb"
      },
      "execution_count": null,
      "outputs": []
    },
    {
      "cell_type": "code",
      "source": [
        "edu"
      ],
      "metadata": {
        "colab": {
          "base_uri": "https://localhost:8080/"
        },
        "id": "OYfB3iShP1oE",
        "outputId": "b38292c7-c96c-47a9-8d9e-3b8bccf66bad"
      },
      "execution_count": null,
      "outputs": [
        {
          "output_type": "execute_result",
          "data": {
            "text/plain": [
              "{'손흥민': 5, '김민재': 24, '김진수': 5}"
            ]
          },
          "metadata": {},
          "execution_count": 47
        }
      ]
    },
    {
      "cell_type": "code",
      "source": [
        "# dictionary 함수 pop(), popitem()\n",
        "# -> dictionary.pop('key')\n",
        "# -> dictionary.popitem()\n",
        "# pop() : 괄호안에 인자(argument)를 넣어주어야 한다.\n",
        "# popitem() : dictionary에서 오른쪽 key:value 부터 delet된다.(괄호를 비워야 작동한다.)"
      ],
      "metadata": {
        "id": "YwmXGl6KRKFZ"
      },
      "execution_count": null,
      "outputs": []
    },
    {
      "cell_type": "code",
      "source": [
        "edu.pop('김진수')"
      ],
      "metadata": {
        "colab": {
          "base_uri": "https://localhost:8080/"
        },
        "id": "JLF1P9IQTKE_",
        "outputId": "1d3de17d-99ca-43a9-8660-ccb0d0361be7"
      },
      "execution_count": null,
      "outputs": [
        {
          "output_type": "execute_result",
          "data": {
            "text/plain": [
              "5"
            ]
          },
          "metadata": {},
          "execution_count": 49
        }
      ]
    },
    {
      "cell_type": "code",
      "source": [
        "edu"
      ],
      "metadata": {
        "colab": {
          "base_uri": "https://localhost:8080/"
        },
        "id": "1W_qp4JFTj8y",
        "outputId": "44a40cab-424e-45bd-dbfb-421fc11e16af"
      },
      "execution_count": null,
      "outputs": [
        {
          "output_type": "execute_result",
          "data": {
            "text/plain": [
              "{'손흥민': 5, '김민재': 24}"
            ]
          },
          "metadata": {},
          "execution_count": 51
        }
      ]
    },
    {
      "cell_type": "code",
      "source": [
        "edu.popitem()"
      ],
      "metadata": {
        "colab": {
          "base_uri": "https://localhost:8080/"
        },
        "id": "nNofuozQTliR",
        "outputId": "b73ace47-7d33-4fbe-da92-7a519a83b42c"
      },
      "execution_count": null,
      "outputs": [
        {
          "output_type": "execute_result",
          "data": {
            "text/plain": [
              "('김민재', 24)"
            ]
          },
          "metadata": {},
          "execution_count": 52
        }
      ]
    },
    {
      "cell_type": "code",
      "source": [
        "edu"
      ],
      "metadata": {
        "colab": {
          "base_uri": "https://localhost:8080/"
        },
        "id": "zNcwOsVWTsYq",
        "outputId": "3dcdea91-ad1d-4032-ebdf-1b2ffc7d096d"
      },
      "execution_count": null,
      "outputs": [
        {
          "output_type": "execute_result",
          "data": {
            "text/plain": [
              "{'손흥민': 5}"
            ]
          },
          "metadata": {},
          "execution_count": 53
        }
      ]
    },
    {
      "cell_type": "code",
      "source": [
        "# dictionary 를 합치는 방법\n",
        "# dictionary + dictionary"
      ],
      "metadata": {
        "id": "WkGOvm3XTt4l"
      },
      "execution_count": null,
      "outputs": []
    },
    {
      "cell_type": "code",
      "source": [
        "new = {'차범근':33,'차두리':22}\n",
        "edu.update(new)\n",
        "# dic.update(dic) : edu(dictionary)에 new(dictionary)를 추가한 명령어"
      ],
      "metadata": {
        "id": "AeOOyBCPUJXX"
      },
      "execution_count": null,
      "outputs": []
    },
    {
      "cell_type": "code",
      "source": [
        "edu"
      ],
      "metadata": {
        "colab": {
          "base_uri": "https://localhost:8080/"
        },
        "id": "RaNAdBVsUZ6f",
        "outputId": "136f4e0e-67be-4126-bf59-dcf893b7a683"
      },
      "execution_count": null,
      "outputs": [
        {
          "output_type": "execute_result",
          "data": {
            "text/plain": [
              "{'손흥민': 5, '차범근': 33, '차두리': 22}"
            ]
          },
          "metadata": {},
          "execution_count": 56
        }
      ]
    },
    {
      "cell_type": "code",
      "source": [
        "new = {'김범수':66, '차두리':21, '차범근':23, '손흥민':55}\n",
        "# new(dictionary) 재선언"
      ],
      "metadata": {
        "id": "8TQTaE-fUauf"
      },
      "execution_count": null,
      "outputs": []
    },
    {
      "cell_type": "code",
      "source": [
        "new"
      ],
      "metadata": {
        "colab": {
          "base_uri": "https://localhost:8080/"
        },
        "id": "DmznTkkLVXF5",
        "outputId": "251a1126-d878-45bf-e95c-fa0de6d3b7c5"
      },
      "execution_count": null,
      "outputs": [
        {
          "output_type": "execute_result",
          "data": {
            "text/plain": [
              "{'김범수': 66, '차두리': 21, '차범근': 23, '손흥민': 55}"
            ]
          },
          "metadata": {},
          "execution_count": 59
        }
      ]
    },
    {
      "cell_type": "code",
      "source": [
        "edu"
      ],
      "metadata": {
        "colab": {
          "base_uri": "https://localhost:8080/"
        },
        "id": "nSheQA49Vj_m",
        "outputId": "2b5a7b03-f461-4858-d3a4-b907aac89644"
      },
      "execution_count": null,
      "outputs": [
        {
          "output_type": "execute_result",
          "data": {
            "text/plain": [
              "{'손흥민': 5, '차범근': 33, '차두리': 22}"
            ]
          },
          "metadata": {},
          "execution_count": 60
        }
      ]
    },
    {
      "cell_type": "code",
      "source": [
        "edu.update(new)\n",
        "# 기존에 update된 dictionary의 key가 중복되어 있다면 overwriting 된다.\n",
        "# 각각의 dictionary의 순서가 다른 경우 update 하는 순서로 바뀌지 않고 value 만 update된다."
      ],
      "metadata": {
        "id": "-JO64ZSIVmU9"
      },
      "execution_count": null,
      "outputs": []
    },
    {
      "cell_type": "code",
      "source": [
        "edu"
      ],
      "metadata": {
        "colab": {
          "base_uri": "https://localhost:8080/"
        },
        "id": "8RQ_Pg_8VqQq",
        "outputId": "d9e81fc7-38d5-498b-cea5-b02bbccc9ac2"
      },
      "execution_count": null,
      "outputs": [
        {
          "output_type": "execute_result",
          "data": {
            "text/plain": [
              "{'손흥민': 55, '차범근': 23, '차두리': 21, '김범수': 66}"
            ]
          },
          "metadata": {},
          "execution_count": 62
        }
      ]
    },
    {
      "cell_type": "code",
      "source": [
        "# dictionary 에서 for반복문(loop) 활용하는 방법\n",
        "# forloop 에서 dictionary 안의 key, value 를 변경하거나 연산하는 방법"
      ],
      "metadata": {
        "id": "I4cEc6FUVrLv"
      },
      "execution_count": null,
      "outputs": []
    },
    {
      "cell_type": "code",
      "source": [
        "# for구문으로 반복문 시작 edu(dic)안의 key에 대해 반복 하는 명령어.\n",
        "for key in edu:\n",
        "  print(key)\n",
        "  # key가 순서대로 출력된다."
      ],
      "metadata": {
        "colab": {
          "base_uri": "https://localhost:8080/"
        },
        "id": "a7HRSV4LWv_P",
        "outputId": "32da330f-8529-46b4-f1b0-ad9e5e796188"
      },
      "execution_count": null,
      "outputs": [
        {
          "output_type": "stream",
          "name": "stdout",
          "text": [
            "손흥민\n",
            "차범근\n",
            "차두리\n",
            "김범수\n"
          ]
        }
      ]
    },
    {
      "cell_type": "code",
      "source": [
        "# items 메서드 사용\n",
        "for key,val in edu.items():\n",
        "  print(key, val)\n",
        "# items 메서드는 key, value 모두 출력된다."
      ],
      "metadata": {
        "id": "EDFFjD3eW3jd",
        "colab": {
          "base_uri": "https://localhost:8080/"
        },
        "outputId": "99a3a0cc-28dd-4820-9b9a-bbb7a66e1204"
      },
      "execution_count": 68,
      "outputs": [
        {
          "output_type": "stream",
          "name": "stdout",
          "text": [
            "손흥민 55\n",
            "차범근 23\n",
            "차두리 21\n",
            "김범수 66\n"
          ]
        }
      ]
    },
    {
      "cell_type": "code",
      "source": [
        "# edu(dictionary)에 저장된 value 값에 += 연산 적용\n",
        "for key, val in edu.items():\n",
        "  edu[key] = val + 200\n",
        "  # 축약 가능 -> edu[key] += 2\n",
        "  # edu[] 괄호 안에 key값을 지정하면 해당 key에만 적용 된다."
      ],
      "metadata": {
        "id": "_eDRjtHnY3If"
      },
      "execution_count": 69,
      "outputs": []
    },
    {
      "cell_type": "code",
      "source": [
        "edu"
      ],
      "metadata": {
        "colab": {
          "base_uri": "https://localhost:8080/"
        },
        "id": "80AmNutBaCbg",
        "outputId": "6dc94de0-52c5-448d-80f9-8cdebe898754"
      },
      "execution_count": 70,
      "outputs": [
        {
          "output_type": "execute_result",
          "data": {
            "text/plain": [
              "{'손흥민': 57, '차범근': 25, '차두리': 23, '김범수': 68}"
            ]
          },
          "metadata": {},
          "execution_count": 70
        }
      ]
    },
    {
      "cell_type": "code",
      "source": [
        "# dictionary 정렬하는 방법"
      ],
      "metadata": {
        "id": "Kf5zZHImaP5T"
      },
      "execution_count": 71,
      "outputs": []
    },
    {
      "cell_type": "code",
      "source": [
        "edu['손흥민'] = 1000\n",
        "edu['차범근'] = 2000\n",
        "edu"
      ],
      "metadata": {
        "colab": {
          "base_uri": "https://localhost:8080/"
        },
        "id": "6cC4zHGdachi",
        "outputId": "64078dda-1cc5-4611-d5fa-0134581f6348"
      },
      "execution_count": 75,
      "outputs": [
        {
          "output_type": "execute_result",
          "data": {
            "text/plain": [
              "{'손흥민': 1000, '차범근': 2000, '차두리': 23, '김범수': 68}"
            ]
          },
          "metadata": {},
          "execution_count": 75
        }
      ]
    },
    {
      "cell_type": "code",
      "source": [
        "# key를 기준으로 정렬 : sorted 메서드 사용(오름차순)\n",
        "sorted_edu = sorted(edu.items())\n",
        "sorted_edu\n",
        "# key를 기준으로 한글:가나다순, 영어:a-z, 숫자:작은수->큰수"
      ],
      "metadata": {
        "colab": {
          "base_uri": "https://localhost:8080/"
        },
        "id": "Hcaj55r2eKQn",
        "outputId": "0ac552a2-a84d-40d9-c73f-2ec43246749b"
      },
      "execution_count": 76,
      "outputs": [
        {
          "output_type": "execute_result",
          "data": {
            "text/plain": [
              "[('김범수', 68), ('손흥민', 1000), ('차두리', 23), ('차범근', 2000)]"
            ]
          },
          "metadata": {},
          "execution_count": 76
        }
      ]
    },
    {
      "cell_type": "code",
      "source": [
        "# key를 기준으로 정렬 : sorted 메서드 사용(내림차순) : key 에 reverse 옵션을 추가한다.\n",
        "sorted_edu = sorted(edu.items(), key = lambda item: item[0], reverse=True)\n",
        "sorted_edu\n",
        "# key를 기준으로 역순(reverse)"
      ],
      "metadata": {
        "colab": {
          "base_uri": "https://localhost:8080/"
        },
        "id": "YH8YXlsbej5z",
        "outputId": "7c61de41-7d9d-41bb-d042-cbc71d4d2806"
      },
      "execution_count": 78,
      "outputs": [
        {
          "output_type": "execute_result",
          "data": {
            "text/plain": [
              "[('차범근', 2000), ('차두리', 23), ('손흥민', 1000), ('김범수', 68)]"
            ]
          },
          "metadata": {},
          "execution_count": 78
        }
      ]
    },
    {
      "cell_type": "code",
      "source": [
        "# edu.item() : item 메서드 사용\n",
        "# key = lambda item: item[0]  : (lambda ; 함수 축약 표현) 정렬 할 기준을 정하는 인자 => 예문에서는 0번 째 값인 key를 기준으로 한다.\n",
        "# -> edu(dic-)의 원소가 itme 이라고 할 때 item의 0번째 값을 기준으로 정렬 한다.\n",
        "#   -> items 메서드를 사용할 때, 함수에 입력하는 '인자(argument)' 순서에 따라 출력되는 값이 달라진다.\n",
        "# reverse=True : 논리적으로 반전하여 적용한다.\n",
        "sorted_edu = sorted(edu.items(), key = lambda item: item[1], reverse=True)\n",
        "sorted_edu\n",
        "# item 메서드의 1번째 값인 value를 기준으로 정렬 한다."
      ],
      "metadata": {
        "colab": {
          "base_uri": "https://localhost:8080/"
        },
        "id": "HWYeplpCfQTa",
        "outputId": "2b0410fc-1ea5-46cf-d551-a16aa5336585"
      },
      "execution_count": 80,
      "outputs": [
        {
          "output_type": "execute_result",
          "data": {
            "text/plain": [
              "[('차범근', 2000), ('손흥민', 1000), ('김범수', 68), ('차두리', 23)]"
            ]
          },
          "metadata": {},
          "execution_count": 80
        }
      ]
    },
    {
      "cell_type": "code",
      "source": [],
      "metadata": {
        "id": "YFFjlGFjicep"
      },
      "execution_count": null,
      "outputs": []
    }
  ]
}